{
 "cells": [
  {
   "cell_type": "code",
   "execution_count": 1,
   "id": "8d2ed592",
   "metadata": {},
   "outputs": [
    {
     "name": "stdout",
     "output_type": "stream",
     "text": [
      "{'A'}\n",
      "{'C', 'A'}\n",
      "{'C', 'A', 'D'}\n",
      "{'C', 'A', 'B', 'D'}\n"
     ]
    }
   ],
   "source": [
    "def dfs(graph, start):\n",
    "    queue=[start]\n",
    "    visited=set()\n",
    "    while queue:\n",
    "        node=queue.pop()\n",
    "        visited.add(node)\n",
    "        print(visited)\n",
    "        for neighbor in graph[node]:\n",
    "            if neighbor not in visited:\n",
    "                queue.append(neighbor)\n",
    "                \n",
    "graph = {\n",
    "    'A': ['B', 'C'],\n",
    "    'B': ['C', 'D'],\n",
    "    'C': ['D'],\n",
    "    'D': [],\n",
    "}\n",
    "dfs(graph, 'A')"
   ]
  },
  {
   "cell_type": "code",
   "execution_count": null,
   "id": "18b8a21b",
   "metadata": {},
   "outputs": [],
   "source": []
  }
 ],
 "metadata": {
  "kernelspec": {
   "display_name": "Python 3 (ipykernel)",
   "language": "python",
   "name": "python3"
  },
  "language_info": {
   "codemirror_mode": {
    "name": "ipython",
    "version": 3
   },
   "file_extension": ".py",
   "mimetype": "text/x-python",
   "name": "python",
   "nbconvert_exporter": "python",
   "pygments_lexer": "ipython3",
   "version": "3.9.13"
  }
 },
 "nbformat": 4,
 "nbformat_minor": 5
}
