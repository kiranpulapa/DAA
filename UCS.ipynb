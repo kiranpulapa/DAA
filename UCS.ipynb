{
 "cells": [
  {
   "cell_type": "code",
   "execution_count": 1,
   "id": "53110474",
   "metadata": {},
   "outputs": [
    {
     "name": "stdout",
     "output_type": "stream",
     "text": [
      "Path from A to D: ['C', 'B', 'D']\n",
      "Cost from A to D: 8\n"
     ]
    }
   ],
   "source": [
    "from queue import PriorityQueue\n",
    "\n",
    "def uniform_cost_search(graph, start, goal):\n",
    "    visited = set()\n",
    "    queue = PriorityQueue()\n",
    "    queue.put((0, start, []))  # (cost, current_node, path)\n",
    "    \n",
    "    while not queue.empty():\n",
    "        cost, current_node, path = queue.get()\n",
    "        \n",
    "        if current_node == goal:\n",
    "            return cost, path\n",
    "        \n",
    "        if current_node not in visited:\n",
    "            visited.add(current_node)\n",
    "            \n",
    "            for neighbor, edge_cost in graph[current_node]:\n",
    "                if neighbor not in visited:\n",
    "                    total_cost = cost + edge_cost\n",
    "                    queue.put((total_cost, neighbor, path + [neighbor]))\n",
    "    \n",
    "    return None, None\n",
    "\n",
    "# Example usage\n",
    "graph = {\n",
    "    'A': [('B', 4), ('C', 2)],\n",
    "    'B': [('A', 4), ('C', 1), ('D', 5)],\n",
    "    'C': [('A', 2), ('B', 1), ('D', 8)],\n",
    "    'D': [('B', 5), ('C', 8)]\n",
    "}\n",
    "\n",
    "start_node = 'A'\n",
    "goal_node = 'D'\n",
    "\n",
    "cost, path = uniform_cost_search(graph, start_node, goal_node)\n",
    "if path:\n",
    "    print(f\"Path from {start_node} to {goal_node}: {path}\")\n",
    "    print(f\"Cost from {start_node} to {goal_node}: {cost}\")\n",
    "else:\n",
    "    print(f\"No path found from {start_node} to {goal_node}\")\n"
   ]
  },
  {
   "cell_type": "code",
   "execution_count": null,
   "id": "7fe65886",
   "metadata": {},
   "outputs": [],
   "source": []
  }
 ],
 "metadata": {
  "kernelspec": {
   "display_name": "Python 3 (ipykernel)",
   "language": "python",
   "name": "python3"
  },
  "language_info": {
   "codemirror_mode": {
    "name": "ipython",
    "version": 3
   },
   "file_extension": ".py",
   "mimetype": "text/x-python",
   "name": "python",
   "nbconvert_exporter": "python",
   "pygments_lexer": "ipython3",
   "version": "3.9.13"
  }
 },
 "nbformat": 4,
 "nbformat_minor": 5
}
