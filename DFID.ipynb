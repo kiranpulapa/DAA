{
 "cells": [
  {
   "cell_type": "code",
   "execution_count": 1,
   "id": "1155f985",
   "metadata": {},
   "outputs": [
    {
     "name": "stdout",
     "output_type": "stream",
     "text": [
      "Goal node found!\n"
     ]
    }
   ],
   "source": [
    "def depth_limited_search(node, goal, depth_limit):\n",
    "    if node == goal:\n",
    "        return True\n",
    "\n",
    "    if depth_limit == 0:\n",
    "        return False\n",
    "\n",
    "    for child in get_children(node):\n",
    "        if depth_limited_search(child, goal, depth_limit - 1):\n",
    "            return True\n",
    "\n",
    "    return False\n",
    "\n",
    "def iterative_deepening_search(start, goal):\n",
    "    depth_limit = 0\n",
    "    while True:\n",
    "        if depth_limited_search(start, goal, depth_limit):\n",
    "            return True\n",
    "        depth_limit += 1\n",
    "\n",
    "# Example usage:\n",
    "start_node = ...\n",
    "goal_node = ...\n",
    "found = iterative_deepening_search(start_node, goal_node)\n",
    "if found:\n",
    "    print(\"Goal node found!\")\n",
    "else:\n",
    "    print(\"Goal node not found.\")\n"
   ]
  },
  {
   "cell_type": "code",
   "execution_count": null,
   "id": "d58cb494",
   "metadata": {},
   "outputs": [],
   "source": []
  }
 ],
 "metadata": {
  "kernelspec": {
   "display_name": "Python 3 (ipykernel)",
   "language": "python",
   "name": "python3"
  },
  "language_info": {
   "codemirror_mode": {
    "name": "ipython",
    "version": 3
   },
   "file_extension": ".py",
   "mimetype": "text/x-python",
   "name": "python",
   "nbconvert_exporter": "python",
   "pygments_lexer": "ipython3",
   "version": "3.9.13"
  }
 },
 "nbformat": 4,
 "nbformat_minor": 5
}
