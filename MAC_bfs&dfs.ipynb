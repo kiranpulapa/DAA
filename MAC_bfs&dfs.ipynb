{
 "cells": [
  {
   "cell_type": "code",
   "execution_count": 4,
   "id": "dc5fb66e",
   "metadata": {},
   "outputs": [
    {
     "name": "stdout",
     "output_type": "stream",
     "text": [
      "Enter no.of Missionaries : 3\n",
      "Enter no.of Cannibals : 3\n"
     ]
    }
   ],
   "source": [
    "M = int(input(\"Enter no.of Missionaries : \"))\n",
    "C = int(input(\"Enter no.of Cannibals : \"))"
   ]
  },
  {
   "cell_type": "code",
   "execution_count": 11,
   "id": "42c8656a",
   "metadata": {},
   "outputs": [
    {
     "name": "stdout",
     "output_type": "stream",
     "text": [
      "[[[2, 2, 0], [1, 1, 1]], [[3, 1, 0], [0, 2, 1]], [[3, 2, 0], [0, 1, 1]]]\n",
      "[[[3, 1, 0], [0, 2, 1]], [[3, 2, 0], [0, 1, 1]], [[3, 2, 1], [0, 1, 0]]]\n",
      "[[[3, 2, 0], [0, 1, 1]], [[3, 2, 1], [0, 1, 0]]]\n",
      "[[[3, 2, 1], [0, 1, 0]]]\n",
      "[[[3, 0, 0], [0, 3, 1]]]\n",
      "[[[3, 1, 1], [0, 2, 0]]]\n",
      "[[[1, 1, 0], [2, 2, 1]]]\n",
      "[[[2, 2, 1], [1, 1, 0]]]\n",
      "[[[0, 2, 0], [3, 1, 1]]]\n",
      "[[[0, 3, 1], [3, 0, 0]]]\n",
      "[[[0, 1, 0], [3, 2, 1]]]\n",
      "[[[1, 1, 1], [2, 2, 0]], [[0, 2, 1], [3, 1, 0]]]\n",
      "[[[0, 2, 1], [3, 1, 0]], [[0, 0, 0], [3, 3, 1]]]\n"
     ]
    }
   ],
   "source": [
    "root = [[M, C, 1], [0, 0, 0]]\n",
    "goal = [[0, 0, 0], [M, C, 1]]\n",
    "\n",
    "def Missionaries_and_Cannibals_BFS(r, g, m, c):\n",
    "    open = []\n",
    "    closed = []\n",
    "    open.append(r)\n",
    "    graph = {}\n",
    "    while g not in open:\n",
    "        x = open.pop(0)\n",
    "        m1, c1, m2, c2 = x[0][0], x[0][1], x[1][0], x[1][1]\n",
    "        pos = []\n",
    "        if x[0][2]==1: # boat is on left side\n",
    "            if m1>=2 and (m1-2>=c1 or m1-2==0) and m2+2>=c2:\n",
    "                pos.append([[m1-2, c1, 0], [m2+2, c2, 1]])\n",
    "            if m1>=1 and c1>=1 and m1-1>=c1-1 and m2+1>=c2+1:\n",
    "                pos.append([[m1-1, c1-1, 0], [m2+1, c2+1, 1]])\n",
    "            if c1>=2 and (m2>=c2+2 or m2==0):\n",
    "                pos.append([[m1, c1-2, 0], [m2, c2+2, 1]])\n",
    "            if m1>=1 and (m1-1>=c1 or m1-1==0) and m2+1>=c2:\n",
    "                pos.append([[m1-1, c1, 0], [m2+1, c2, 1]])\n",
    "            if c1>=1 and (m2>=c2+1 or m2==0):\n",
    "                pos.append([[m1, c1-1, 0], [m2, c2+1, 1]])\n",
    "\n",
    "\n",
    "        elif x[1][2] == 1: # boat is on right side\n",
    "            if m2>=2 and m1+2 >= c1 and (m2-2 >= c2 or m2-2==0):\n",
    "                pos.append([[m1+2, c1, 1], [m2-2, c2, 0]])\n",
    "            if m2>=1 and c2>=1 and m1+1 >= c1+1 and m2-1 >= c2-1:\n",
    "                pos.append([[m1+1, c1+1, 1], [m2-1, c2-1, 0]])\n",
    "            if c2>=2 and ((m1 >= c1+2 and m2>=c2-2) or m1==0):\n",
    "                pos.append([[m1, c1+2, 1], [m2, c2-2, 0]])\n",
    "            if m2>=1 and m1+1 >= c1 and (m2-1 >= c2 or m2-1==0):\n",
    "                pos.append([[m1+1, c1, 1], [m2-1, c2, 0]])\n",
    "            if c2>=1 and (m1 >= c1+1 or m1==0):\n",
    "                pos.append([[m1, c1+1, 1], [m2, c2-1, 0]])\n",
    "        closed.append(x)\n",
    "        for i in closed+open:\n",
    "            if i in pos:\n",
    "                pos.remove(i)\n",
    "        graph[str(x)] = pos\n",
    "        open.extend(pos)\n",
    "        print(open)\n",
    "    return graph\n",
    "\n",
    "graph = Missionaries_and_Cannibals_BFS(root, goal, M, C)"
   ]
  },
  {
   "cell_type": "code",
   "execution_count": 12,
   "id": "db0f7eba",
   "metadata": {},
   "outputs": [
    {
     "data": {
      "text/plain": [
       "{'[[3, 3, 1], [0, 0, 0]]': [[[2, 2, 0], [1, 1, 1]],\n",
       "  [[3, 1, 0], [0, 2, 1]],\n",
       "  [[3, 2, 0], [0, 1, 1]]],\n",
       " '[[2, 2, 0], [1, 1, 1]]': [[[3, 2, 1], [0, 1, 0]]],\n",
       " '[[3, 1, 0], [0, 2, 1]]': [],\n",
       " '[[3, 2, 0], [0, 1, 1]]': [],\n",
       " '[[3, 2, 1], [0, 1, 0]]': [[[3, 0, 0], [0, 3, 1]]],\n",
       " '[[3, 0, 0], [0, 3, 1]]': [[[3, 1, 1], [0, 2, 0]]],\n",
       " '[[3, 1, 1], [0, 2, 0]]': [[[1, 1, 0], [2, 2, 1]]],\n",
       " '[[1, 1, 0], [2, 2, 1]]': [[[2, 2, 1], [1, 1, 0]]],\n",
       " '[[2, 2, 1], [1, 1, 0]]': [[[0, 2, 0], [3, 1, 1]]],\n",
       " '[[0, 2, 0], [3, 1, 1]]': [[[0, 3, 1], [3, 0, 0]]],\n",
       " '[[0, 3, 1], [3, 0, 0]]': [[[0, 1, 0], [3, 2, 1]]],\n",
       " '[[0, 1, 0], [3, 2, 1]]': [[[1, 1, 1], [2, 2, 0]], [[0, 2, 1], [3, 1, 0]]],\n",
       " '[[1, 1, 1], [2, 2, 0]]': [[[0, 0, 0], [3, 3, 1]]]}"
      ]
     },
     "execution_count": 12,
     "metadata": {},
     "output_type": "execute_result"
    }
   ],
   "source": [
    "graph"
   ]
  },
  {
   "cell_type": "code",
   "execution_count": 13,
   "id": "f0136ede",
   "metadata": {},
   "outputs": [
    {
     "data": {
      "text/plain": [
       "['[[3, 3, 1], [0, 0, 0]]',\n",
       " '[[2, 2, 0], [1, 1, 1]]',\n",
       " '[[3, 2, 1], [0, 1, 0]]',\n",
       " '[[3, 0, 0], [0, 3, 1]]',\n",
       " '[[3, 1, 1], [0, 2, 0]]',\n",
       " '[[1, 1, 0], [2, 2, 1]]',\n",
       " '[[2, 2, 1], [1, 1, 0]]',\n",
       " '[[0, 2, 0], [3, 1, 1]]',\n",
       " '[[0, 3, 1], [3, 0, 0]]',\n",
       " '[[0, 1, 0], [3, 2, 1]]',\n",
       " '[[1, 1, 1], [2, 2, 0]]',\n",
       " '[[0, 0, 0], [3, 3, 1]]']"
      ]
     },
     "execution_count": 13,
     "metadata": {},
     "output_type": "execute_result"
    }
   ],
   "source": [
    "def path(root, goal, g):\n",
    "    x = str(goal)\n",
    "    p = [x]\n",
    "    while(x!=str(root)):\n",
    "        for i in g.keys():\n",
    "            l = [str(j) for j in g[i]]\n",
    "            if x in l:\n",
    "                p.insert(0, i)\n",
    "                break\n",
    "        x = p[0]\n",
    "    return p\n",
    "\n",
    "path(root, goal, graph)"
   ]
  },
  {
   "cell_type": "code",
   "execution_count": 14,
   "id": "c7260896",
   "metadata": {},
   "outputs": [
    {
     "name": "stdout",
     "output_type": "stream",
     "text": [
      "[[[3, 2, 0], [0, 1, 1]], [[3, 1, 0], [0, 2, 1]], [[2, 2, 0], [1, 1, 1]]]\n",
      "[[[3, 1, 0], [0, 2, 1]], [[2, 2, 0], [1, 1, 1]]]\n",
      "[[[2, 2, 0], [1, 1, 1]], [[3, 2, 1], [0, 1, 0]]]\n",
      "[[[3, 2, 1], [0, 1, 0]]]\n",
      "[[[3, 0, 0], [0, 3, 1]]]\n",
      "[[[3, 1, 1], [0, 2, 0]]]\n",
      "[[[1, 1, 0], [2, 2, 1]]]\n",
      "[[[2, 2, 1], [1, 1, 0]]]\n",
      "[[[0, 2, 0], [3, 1, 1]]]\n",
      "[[[0, 3, 1], [3, 0, 0]]]\n",
      "[[[0, 1, 0], [3, 2, 1]]]\n",
      "[[[0, 2, 1], [3, 1, 0]], [[1, 1, 1], [2, 2, 0]]]\n",
      "[[[1, 1, 1], [2, 2, 0]], [[0, 0, 0], [3, 3, 1]]]\n"
     ]
    }
   ],
   "source": [
    "def Missionaries_and_Cannibals_DFS(r, g, m, c):\n",
    "    open = []\n",
    "    closed = []\n",
    "    open.append(r)\n",
    "    while g not in open:\n",
    "        x = open.pop(0)\n",
    "        m1, c1, m2, c2 = x[0][0], x[0][1], x[1][0], x[1][1]\n",
    "        pos = []\n",
    "        if x[0][2]==1: # boat is on left side\n",
    "            if m1>=2 and (m1-2>=c1 or m1-2==0) and m2+2>=c2:\n",
    "                pos.append([[m1-2, c1, 0], [m2+2, c2, 1]])\n",
    "            if m1>=1 and c1>=1 and m1-1>=c1-1 and m2+1>=c2+1:\n",
    "                pos.append([[m1-1, c1-1, 0], [m2+1, c2+1, 1]])\n",
    "            if c1>=2 and (m2>=c2+2 or m2==0):\n",
    "                pos.append([[m1, c1-2, 0], [m2, c2+2, 1]])\n",
    "            if m1>=1 and (m1-1>=c1 or m1-1==0) and m2+1>=c2:\n",
    "                pos.append([[m1-1, c1, 0], [m2+1, c2, 1]])\n",
    "            if c1>=1 and (m2>=c2+1 or m2==0):\n",
    "                pos.append([[m1, c1-1, 0], [m2, c2+1, 1]])\n",
    "\n",
    "\n",
    "        elif x[1][2] == 1: # boat is on right side\n",
    "            if m2>=2 and m1+2 >= c1 and (m2-2 >= c2 or m2-2==0):\n",
    "                pos.append([[m1+2, c1, 1], [m2-2, c2, 0]])\n",
    "            if m2>=1 and c2>=1 and m1+1 >= c1+1 and m2-1 >= c2-1:\n",
    "                pos.append([[m1+1, c1+1, 1], [m2-1, c2-1, 0]])\n",
    "            if c2>=2 and ((m1 >= c1+2 and m2>=c2-2) or m1==0):\n",
    "                pos.append([[m1, c1+2, 1], [m2, c2-2, 0]])\n",
    "            if m2>=1 and m1+1 >= c1 and (m2-1 >= c2 or m2-1==0):\n",
    "                pos.append([[m1+1, c1, 1], [m2-1, c2, 0]])\n",
    "            if c2>=1 and (m1 >= c1+1 or m1==0):\n",
    "                pos.append([[m1, c1+1, 1], [m2, c2-1, 0]])\n",
    "        closed.append(x)\n",
    "        for i in closed+open:\n",
    "            if i in pos:\n",
    "                pos.remove(i)\n",
    "        open.extend(pos[::-1])\n",
    "        print(open)\n",
    "\n",
    "graph = Missionaries_and_Cannibals_DFS(root, goal, M, C)"
   ]
  },
  {
   "cell_type": "code",
   "execution_count": null,
   "id": "843db8f1",
   "metadata": {},
   "outputs": [],
   "source": []
  },
  {
   "cell_type": "code",
   "execution_count": null,
   "id": "09a40797",
   "metadata": {},
   "outputs": [],
   "source": []
  }
 ],
 "metadata": {
  "kernelspec": {
   "display_name": "Python 3 (ipykernel)",
   "language": "python",
   "name": "python3"
  },
  "language_info": {
   "codemirror_mode": {
    "name": "ipython",
    "version": 3
   },
   "file_extension": ".py",
   "mimetype": "text/x-python",
   "name": "python",
   "nbconvert_exporter": "python",
   "pygments_lexer": "ipython3",
   "version": "3.9.13"
  }
 },
 "nbformat": 4,
 "nbformat_minor": 5
}
