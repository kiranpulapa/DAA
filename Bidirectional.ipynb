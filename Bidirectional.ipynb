{
 "cells": [
  {
   "cell_type": "code",
   "execution_count": 1,
   "id": "339c2488",
   "metadata": {},
   "outputs": [
    {
     "name": "stdout",
     "output_type": "stream",
     "text": [
      "{'A': ['B', 'C', 'D'], 'B': ['E', 'F', 'A'], 'C': ['F', 'G', 'A'], 'D': ['A'], 'E': ['H', 'I', 'B'], 'F': ['J', 'B', 'C'], 'G': ['C'], 'H': ['E'], 'I': ['E'], 'J': ['F']}\n"
     ]
    }
   ],
   "source": [
    "graph = {\n",
    "    'A': ['B', 'C', 'D'],\n",
    "    'B': ['E', 'F', 'A'],\n",
    "    'C': ['F', 'G', 'A'],\n",
    "    'D': ['A'],\n",
    "    'E': ['H', 'I', 'B'],\n",
    "    'F': ['J', 'B', 'C'],\n",
    "    'G': ['C'],\n",
    "    'H': ['E'],\n",
    "    'I': ['E'],\n",
    "    'J': ['F']\n",
    "}\n",
    "print(graph)"
   ]
  },
  {
   "cell_type": "code",
   "execution_count": 2,
   "id": "5f944f22",
   "metadata": {},
   "outputs": [
    {
     "name": "stdout",
     "output_type": "stream",
     "text": [
      "Enter root node : A\n",
      "Enter Goal node : J\n",
      "Final Path :  ['A', 'C', 'F', 'J']\n"
     ]
    }
   ],
   "source": [
    "def Bidirectional_BFS(g, root, goal):\n",
    "    flag = 0\n",
    "    open1 = [root]\n",
    "    closed1 = []\n",
    "    open2 = [goal]\n",
    "    closed2 = []\n",
    "    graph1 = {}\n",
    "    graph2={}\n",
    "    while(len(set(open1+open2))==len(open1+open2)):\n",
    "        # Front\n",
    "        x1 = open1.pop(0)\n",
    "        closed1.append(x1)\n",
    "        sub_nodes = g[x1]\n",
    "        graph1[x1]=[]\n",
    "        for i in sub_nodes:\n",
    "            if i not in open1+closed1:\n",
    "                graph1[x1].append(i)\n",
    "                open1.append(i)\n",
    "\n",
    "        #Back\n",
    "        x2 = open2.pop(0)\n",
    "        closed2.append(x2)\n",
    "        sub_nodes = g[x2]\n",
    "        graph2[x2]=[]\n",
    "        for i in sub_nodes:\n",
    "            if i not in open2+closed2:\n",
    "                graph2[x2].append(i)\n",
    "                open2.append(i)\n",
    "    # print(graph1, graph2)\n",
    "    path1, path2 = [], []\n",
    "    match_ele = ''\n",
    "    for i in open1:\n",
    "        if i in open2:\n",
    "            match_ele = i\n",
    "            break\n",
    "    x1, x2 = match_ele, match_ele\n",
    "    while root!=x1:\n",
    "        for i in graph1.keys():\n",
    "            if x1 in graph1[i]:\n",
    "                path1.insert(0, i)\n",
    "                break\n",
    "        x1 = path1[0]\n",
    "    path1.append(match_ele)\n",
    "\n",
    "    while goal!=x2:\n",
    "        for i in graph2.keys():\n",
    "            if x2 in graph2[i]:\n",
    "                path2.insert(0, i)\n",
    "                break\n",
    "        x2 = path2[0]\n",
    "\n",
    "    print(\"Final Path : \",path1+path2[::-1])\n",
    "\n",
    "root = input('Enter root node : ')\n",
    "goal = input('Enter Goal node : ')\n",
    "Bidirectional_BFS(graph, root, goal)"
   ]
  },
  {
   "cell_type": "code",
   "execution_count": null,
   "id": "c93bb924",
   "metadata": {},
   "outputs": [],
   "source": []
  }
 ],
 "metadata": {
  "kernelspec": {
   "display_name": "Python 3 (ipykernel)",
   "language": "python",
   "name": "python3"
  },
  "language_info": {
   "codemirror_mode": {
    "name": "ipython",
    "version": 3
   },
   "file_extension": ".py",
   "mimetype": "text/x-python",
   "name": "python",
   "nbconvert_exporter": "python",
   "pygments_lexer": "ipython3",
   "version": "3.9.13"
  }
 },
 "nbformat": 4,
 "nbformat_minor": 5
}
