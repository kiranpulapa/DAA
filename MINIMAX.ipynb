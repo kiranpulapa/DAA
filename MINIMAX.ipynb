{
 "cells": [
  {
   "cell_type": "code",
   "execution_count": 1,
   "id": "3e5cd4ea",
   "metadata": {},
   "outputs": [
    {
     "name": "stdout",
     "output_type": "stream",
     "text": [
      "Enter leaf nodes : 3 5 2 9 12 5 23 23\n",
      "Enter 1 if MAX, else enter 0 : 1\n",
      "[5, 9, 12, 23]\n",
      "[5, 12]\n",
      "[12]\n"
     ]
    }
   ],
   "source": [
    "def MIN_MAX(leafs, mode):\n",
    "    flag = mode #max\n",
    "    while(len(leafs)>1):\n",
    "        new = []\n",
    "        while len(leafs)>1:\n",
    "            x = leafs.pop(0)\n",
    "            y = leafs.pop(0)\n",
    "            if flag==1:\n",
    "                new.append(max(x, y))\n",
    "            else:\n",
    "                new.append(min(x, y))\n",
    "        if len(leafs)==1:\n",
    "            new.append(leafs.pop())\n",
    "        leafs = new\n",
    "        if flag == 1:\n",
    "            flag=0\n",
    "        else:\n",
    "            flag=1\n",
    "        print(leafs)\n",
    "\n",
    "#[3,5, 2,9, 12,5, 23,23]\n",
    "#[10, 100, 5, -10, 7, 5, -100, -7, -5]\n",
    "\n",
    "leaf_nodes = list(map(int, input(\"Enter leaf nodes : \").split()))\n",
    "mode = int(input(\"Enter 1 if MAX, else enter 0 : \"))\n",
    "\n",
    "MIN_MAX(leaf_nodes, mode)"
   ]
  },
  {
   "cell_type": "code",
   "execution_count": null,
   "id": "63ba0af3",
   "metadata": {},
   "outputs": [],
   "source": []
  }
 ],
 "metadata": {
  "kernelspec": {
   "display_name": "Python 3 (ipykernel)",
   "language": "python",
   "name": "python3"
  },
  "language_info": {
   "codemirror_mode": {
    "name": "ipython",
    "version": 3
   },
   "file_extension": ".py",
   "mimetype": "text/x-python",
   "name": "python",
   "nbconvert_exporter": "python",
   "pygments_lexer": "ipython3",
   "version": "3.9.13"
  }
 },
 "nbformat": 4,
 "nbformat_minor": 5
}
