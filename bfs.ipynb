{
 "cells": [
  {
   "cell_type": "code",
   "execution_count": 1,
   "id": "c8a15e4f",
   "metadata": {},
   "outputs": [
    {
     "name": "stdout",
     "output_type": "stream",
     "text": [
      "{'A'}\n",
      "{'B', 'A'}\n",
      "{'C', 'B', 'A'}\n",
      "{'C', 'B', 'A'}\n",
      "{'C', 'B', 'A', 'D'}\n",
      "{'C', 'B', 'A', 'D'}\n",
      "{'C', 'B', 'A', 'D'}\n"
     ]
    }
   ],
   "source": [
    "def bfs(graph, start):\n",
    "    queue=[start]\n",
    "    visited=set()\n",
    "    while queue:\n",
    "        node=queue.pop(0)\n",
    "        visited.add(node)\n",
    "        print(visited)\n",
    "        for neighbor in graph[node]:\n",
    "            if neighbor not in visited:\n",
    "                queue.append(neighbor)\n",
    "                \n",
    "queue={\n",
    "    'A': ['B','C'],\n",
    "    'B': ['C', 'D'],\n",
    "    'C': ['D'],\n",
    "    'D': [],\n",
    "}\n",
    "\n",
    "bfs(queue, 'A')"
   ]
  },
  {
   "cell_type": "code",
   "execution_count": null,
   "id": "150c948c",
   "metadata": {},
   "outputs": [],
   "source": []
  }
 ],
 "metadata": {
  "kernelspec": {
   "display_name": "Python 3 (ipykernel)",
   "language": "python",
   "name": "python3"
  },
  "language_info": {
   "codemirror_mode": {
    "name": "ipython",
    "version": 3
   },
   "file_extension": ".py",
   "mimetype": "text/x-python",
   "name": "python",
   "nbconvert_exporter": "python",
   "pygments_lexer": "ipython3",
   "version": "3.9.13"
  }
 },
 "nbformat": 4,
 "nbformat_minor": 5
}
