{
 "cells": [
  {
   "cell_type": "code",
   "execution_count": 6,
   "id": "10a0de38",
   "metadata": {},
   "outputs": [
    {
     "name": "stdout",
     "output_type": "stream",
     "text": [
      "enter 1st jug amount5\n",
      "enter 2nd jug amount4\n",
      "enter goal state amount3\n",
      "reached\n",
      "[[2, 4], [0, 3], [5, 1], [5, 3], [0, 1], [4, 4], [1, 0], [4, 0], [1, 4], [5, 4], [0, 4], [5, 0], [0, 0]]\n",
      "[]\n"
     ]
    }
   ],
   "source": [
    "open_list=[]\n",
    "closed_list=[]\n",
    "path=[]\n",
    "def new(li,open_list,i,j):\n",
    "    if(li[0]<i):\n",
    "        open_list.append([i,li[1]])\n",
    "    if(li[1]<j):\n",
    "        open_list.append([li[0],j])\n",
    "    if(li[0]>0):\n",
    "        open_list.append([0,li[1]])\n",
    "    if(li[1]>0):\n",
    "        open_list.append([li[0],0])\n",
    "    if li[0]+li[1]<=i and li[1]>0:\n",
    "        open_list.append([li[0]+li[1],0])\n",
    "    if li[0]+li[1]<=j and li[0]>0:\n",
    "        open_list.append([0,li[0]+li[1]])\n",
    "    if li[0]+li[1]>=j and li[0]>0:\n",
    "        open_list.append([li[0]-(j-li[1]),j])\n",
    "    if li[0]+li[1]>=i and li[1]>0:\n",
    "        open_list.append([i,li[1]-(i-li[0])])\n",
    "\n",
    "def bfs(open_list,closed_list,goal,i,j):\n",
    "    now=open_list[0]\n",
    "    open_list.remove(now)\n",
    "    if(now==goal):\n",
    "        print(\"reached\")\n",
    "        return\n",
    "    if now in closed_list:\n",
    "        bfs(open_list,closed_list,goal,i,j)\n",
    "    if now not in closed_list:\n",
    "        new(now,open_list,i,j)\n",
    "        closed_list.append(now)\n",
    "        bfs(open_list,closed_list,goal,i,j)\n",
    "\n",
    "i=int(input(\"enter 1st jug amount\"))\n",
    "j=int(input(\"enter 2nd jug amount\"))\n",
    "g=int(input(\"enter goal state amount\"))\n",
    "initial=[0,0]\n",
    "goal=[g,0]\n",
    "closed_list.append(initial)\n",
    "new(initial,open_list,i,j)\n",
    "bfs(open_list,closed_list,goal,i,j)\n",
    "print(list(reversed(closed_list)))\n",
    "print(path)"
   ]
  },
  {
   "cell_type": "code",
   "execution_count": 7,
   "id": "889403ea",
   "metadata": {},
   "outputs": [
    {
     "name": "stdout",
     "output_type": "stream",
     "text": [
      "enter 1st jug amount5\n",
      "enter 2nd jug amount4\n",
      "enter goal state amount3\n",
      "reached\n",
      "[[0, 0], [0, 4], [4, 0], [4, 4], [5, 3], [5, 0], [1, 4], [1, 0], [0, 1], [5, 1], [2, 4], [2, 0], [0, 2], [5, 2], [3, 4]]\n"
     ]
    }
   ],
   "source": [
    "open_list=[]\n",
    "closed_list=[]\n",
    "path=[]\n",
    "def new(li,open_list,i,j):\n",
    "    if(li[0]<i):\n",
    "        open_list.insert(0,[i,li[1]])\n",
    "    if(li[1]<j):\n",
    "        open_list.insert(0,[li[0],j])\n",
    "    if(li[0]>0):\n",
    "        open_list.insert(0,[0,li[1]])\n",
    "    if(li[1]>0):\n",
    "        open_list.insert(0,[li[0],0])\n",
    "    if li[0]+li[1]<=i and li[1]>0:\n",
    "        open_list.insert(0,[li[0]+li[1],0])\n",
    "    if li[0]+li[1]<=j and li[0]>0:\n",
    "        open_list.insert(0,[0,li[0]+li[1]])\n",
    "    if li[0]+li[1]>=j and li[0]>0:\n",
    "        open_list.insert(0,[li[0]-(j-li[1]),j])\n",
    "    if li[0]+li[1]>=i and li[1]>0:\n",
    "        open_list.insert(0,[i,li[1]-(i-li[0])])\n",
    "\n",
    "def dfs(open_list,closed_list,goal,i,j):\n",
    "    now=open_list[0]\n",
    "    open_list.remove(now)\n",
    "    if(now==goal):\n",
    "        print(\"reached\")\n",
    "        return\n",
    "    if now in closed_list:\n",
    "        dfs(open_list,closed_list,goal,i,j)\n",
    "    if now not in closed_list:\n",
    "        new(now,open_list,i,j)\n",
    "        closed_list.insert(0,now)\n",
    "        dfs(open_list,closed_list,goal,i,j)\n",
    "\n",
    "i=int(input(\"enter 1st jug amount\"))\n",
    "j=int(input(\"enter 2nd jug amount\"))\n",
    "g=int(input(\"enter goal state amount\"))\n",
    "initial=[0,0]\n",
    "goal=[g,0]\n",
    "closed_list.append(initial)\n",
    "new(initial,open_list,i,j)\n",
    "dfs(open_list,closed_list,goal,i,j)\n",
    "print(list(reversed(closed_list)))"
   ]
  },
  {
   "cell_type": "code",
   "execution_count": null,
   "id": "2c650b01",
   "metadata": {},
   "outputs": [],
   "source": []
  }
 ],
 "metadata": {
  "kernelspec": {
   "display_name": "Python 3 (ipykernel)",
   "language": "python",
   "name": "python3"
  },
  "language_info": {
   "codemirror_mode": {
    "name": "ipython",
    "version": 3
   },
   "file_extension": ".py",
   "mimetype": "text/x-python",
   "name": "python",
   "nbconvert_exporter": "python",
   "pygments_lexer": "ipython3",
   "version": "3.9.13"
  }
 },
 "nbformat": 4,
 "nbformat_minor": 5
}
