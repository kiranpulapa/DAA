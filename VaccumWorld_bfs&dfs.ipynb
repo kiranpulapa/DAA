{
 "cells": [
  {
   "cell_type": "code",
   "execution_count": 2,
   "id": "a551a678",
   "metadata": {},
   "outputs": [
    {
     "name": "stdout",
     "output_type": "stream",
     "text": [
      "Enter position of the Vacuum machine, either 'A' or 'B' : A\n",
      "[[1, 1], [1, 0]] [[[0, 1], [0, 0]], [[0, 0], [0, 1]]]\n"
     ]
    }
   ],
   "source": [
    "pos = input(\"Enter position of the Vacuum machine, either 'A' or 'B' : \")\n",
    "\n",
    "root = [[1, 0], [1, 0]]\n",
    "if pos=='A':\n",
    "    root[0][-1]=1\n",
    "else:\n",
    "    root[-1][-1]=1\n",
    "\n",
    "goal = [[[0, 1], [0, 0]], [[0, 0], [0, 1]]]\n",
    "\n",
    "print(root, goal)"
   ]
  },
  {
   "cell_type": "code",
   "execution_count": 5,
   "id": "dec2a565",
   "metadata": {},
   "outputs": [],
   "source": [
    "import copy\n",
    "def Operation(c):\n",
    "    cond = copy.deepcopy(c)\n",
    "    location = 0 if cond[0][-1]==1 else 1\n",
    "    pos = []\n",
    "    if cond[location][0]==1:\n",
    "        cond[location][0]=0\n",
    "        pos.append(cond)\n",
    "    cond = copy.deepcopy(c)\n",
    "\n",
    "    cond[location][-1]=0\n",
    "    location = 1 if location==0 else 0\n",
    "    cond[location][-1]=1\n",
    "    pos.append(cond)\n",
    "\n",
    "    return pos"
   ]
  },
  {
   "cell_type": "code",
   "execution_count": 6,
   "id": "bdb73ab1",
   "metadata": {},
   "outputs": [
    {
     "name": "stdout",
     "output_type": "stream",
     "text": [
      "[[[1, 1], [1, 0]]]\n",
      "[[[0, 1], [1, 0]], [[1, 0], [1, 1]]]\n",
      "[[[1, 0], [1, 1]], [[0, 0], [1, 1]]]\n",
      "[[[0, 0], [1, 1]], [[1, 0], [0, 1]]]\n",
      "[[[1, 0], [0, 1]], [[0, 0], [0, 1]]]\n",
      "[[[0, 0], [0, 1]], [[1, 1], [0, 0]]]\n"
     ]
    }
   ],
   "source": [
    "def Vacuum_World_BFS(r, g):\n",
    "    open = [r]\n",
    "    closed = []\n",
    "    graph = {}\n",
    "    while (g[0] not in open):\n",
    "        print(open)\n",
    "        x = open.pop(0)\n",
    "        closed.append(x)\n",
    "        pos = Operation(x)\n",
    "        graph[str(x)]=pos\n",
    "        for i in pos:\n",
    "            if i not in open+closed:\n",
    "                open.append(i)\n",
    "    return graph\n",
    "graph = Vacuum_World_BFS(root, goal)"
   ]
  },
  {
   "cell_type": "code",
   "execution_count": 7,
   "id": "bca2eb54",
   "metadata": {},
   "outputs": [
    {
     "data": {
      "text/plain": [
       "{'[[1, 1], [1, 0]]': [[[0, 1], [1, 0]], [[1, 0], [1, 1]]],\n",
       " '[[0, 1], [1, 0]]': [[[0, 0], [1, 1]]],\n",
       " '[[1, 0], [1, 1]]': [[[1, 0], [0, 1]], [[1, 1], [1, 0]]],\n",
       " '[[0, 0], [1, 1]]': [[[0, 0], [0, 1]], [[0, 1], [1, 0]]],\n",
       " '[[1, 0], [0, 1]]': [[[1, 1], [0, 0]]],\n",
       " '[[0, 0], [0, 1]]': [[[0, 1], [0, 0]]]}"
      ]
     },
     "execution_count": 7,
     "metadata": {},
     "output_type": "execute_result"
    }
   ],
   "source": [
    "graph"
   ]
  },
  {
   "cell_type": "raw",
   "id": "e515d240",
   "metadata": {},
   "source": []
  },
  {
   "cell_type": "code",
   "execution_count": 4,
   "id": "0ae7f067",
   "metadata": {},
   "outputs": [
    {
     "name": "stdout",
     "output_type": "stream",
     "text": [
      "[[[1, 1], [1, 0]]]\n",
      "[[[1, 0], [1, 1]], [[0, 1], [1, 0]]]\n",
      "[[[0, 1], [1, 0]], [[1, 0], [0, 1]]]\n",
      "[[[1, 0], [0, 1]], [[0, 0], [1, 1]]]\n",
      "[[[0, 0], [1, 1]], [[1, 1], [0, 0]]]\n",
      "[[[1, 1], [0, 0]], [[0, 0], [0, 1]]]\n"
     ]
    }
   ],
   "source": [
    "def Vacuum_World_DFS(r, g):\n",
    "    open = [r]\n",
    "    closed = []\n",
    "    graph = {}\n",
    "    while (g[0] not in open):\n",
    "        print(open)\n",
    "        x = open.pop(0)\n",
    "        closed.append(x)\n",
    "        pos = Operation(x)\n",
    "        graph[str(x)]=pos\n",
    "        for i in pos[::-1]:\n",
    "            if i not in open+closed:\n",
    "                open.append(i)\n",
    "    return graph\n",
    "\n",
    "graph = Vacuum_World_DFS(root, goal)"
   ]
  },
  {
   "cell_type": "code",
   "execution_count": 8,
   "id": "392757fd",
   "metadata": {},
   "outputs": [
    {
     "data": {
      "text/plain": [
       "{'[[1, 1], [1, 0]]': [[[0, 1], [1, 0]], [[1, 0], [1, 1]]],\n",
       " '[[0, 1], [1, 0]]': [[[0, 0], [1, 1]]],\n",
       " '[[1, 0], [1, 1]]': [[[1, 0], [0, 1]], [[1, 1], [1, 0]]],\n",
       " '[[0, 0], [1, 1]]': [[[0, 0], [0, 1]], [[0, 1], [1, 0]]],\n",
       " '[[1, 0], [0, 1]]': [[[1, 1], [0, 0]]],\n",
       " '[[0, 0], [0, 1]]': [[[0, 1], [0, 0]]]}"
      ]
     },
     "execution_count": 8,
     "metadata": {},
     "output_type": "execute_result"
    }
   ],
   "source": [
    "graph"
   ]
  },
  {
   "cell_type": "code",
   "execution_count": null,
   "id": "235aa00c",
   "metadata": {},
   "outputs": [],
   "source": []
  }
 ],
 "metadata": {
  "kernelspec": {
   "display_name": "Python 3 (ipykernel)",
   "language": "python",
   "name": "python3"
  },
  "language_info": {
   "codemirror_mode": {
    "name": "ipython",
    "version": 3
   },
   "file_extension": ".py",
   "mimetype": "text/x-python",
   "name": "python",
   "nbconvert_exporter": "python",
   "pygments_lexer": "ipython3",
   "version": "3.9.13"
  }
 },
 "nbformat": 4,
 "nbformat_minor": 5
}
